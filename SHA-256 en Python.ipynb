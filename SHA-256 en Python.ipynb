{
 "cells": [
  {
   "cell_type": "markdown",
   "metadata": {},
   "source": [
    "# SHA-256 en Python"
   ]
  },
  {
   "cell_type": "markdown",
   "metadata": {},
   "source": [
    "### Auteur : Léopold Terpereau\n",
    "Basé sur le rapport du National Institute of Standards and Technology:\n",
    "    https://csrc.nist.gov/csrc/media/publications/fips/180/2/archive/2002-08-01/documents/fips180-2.pdf\n",
    "\n",
    "Chaque définition de fonction est suivie d'un exemple"
   ]
  },
  {
   "cell_type": "markdown",
   "metadata": {},
   "source": [
    "## Modules utilisés"
   ]
  },
  {
   "cell_type": "code",
   "execution_count": 288,
   "metadata": {},
   "outputs": [],
   "source": [
    "\n",
    "import numpy as np\n",
    "import math\n",
    "import matplotlib.pyplot as plt\n",
    "import random as r\n",
    "import hashlib\n",
    "import re\n",
    "import time"
   ]
  },
  {
   "cell_type": "markdown",
   "metadata": {},
   "source": [
    "## I. Pré-traitement"
   ]
  },
  {
   "cell_type": "markdown",
   "metadata": {},
   "source": [
    "### Conversion \n",
    "Conversion du message en ascii puis en binaire, en itérant sur chaque caractère"
   ]
  },
  {
   "cell_type": "code",
   "execution_count": 154,
   "metadata": {},
   "outputs": [],
   "source": [
    "def strBin(message): \n",
    "    return (''.join('0'+str(bin(ord(car)))[2:] for car in message)) "
   ]
  },
  {
   "cell_type": "markdown",
   "metadata": {},
   "source": [
    "Exemple :\n",
    "Conversion en binaire du message 'abc'"
   ]
  },
  {
   "cell_type": "code",
   "execution_count": 155,
   "metadata": {},
   "outputs": [
    {
     "data": {
      "text/plain": [
       "'011000010110001001100011'"
      ]
     },
     "execution_count": 155,
     "metadata": {},
     "output_type": "execute_result"
    }
   ],
   "source": [
    "strBin('abc')"
   ]
  },
  {
   "cell_type": "markdown",
   "metadata": {},
   "source": [
    "### Rembourrage\n",
    "Rembourre le message selon le procédé de Padding :\n",
    " \n",
    "Ajoute un 1 après le message converti en binaire, puis ajoute des 0, et enfin la longueur du message initial en binaire sur 64 bits"
   ]
  },
  {
   "cell_type": "code",
   "execution_count": 156,
   "metadata": {},
   "outputs": [],
   "source": [
    "def rembourrage(message):\n",
    "    rembourré=strBin(message)               #utilisation de la fonction précedente\n",
    "    l=len(rembourré)+2**64                  #ajout de 2**64 pour coder la longueur sur 64 bits\n",
    "    rembourré+='1'\n",
    "    while len(rembourré)%512!=448:          #ajout de 0 jusqu'à une longueur de 448 modulo 512\n",
    "        rembourré+='0'\n",
    "    rembourré+=bin(l)[-64:]                 #ajout de la longueur l en binaire du message initial\n",
    "    return(rembourré)"
   ]
  },
  {
   "cell_type": "markdown",
   "metadata": {},
   "source": [
    "Exemple :\n",
    "Rembourrage du message 'abc'"
   ]
  },
  {
   "cell_type": "code",
   "execution_count": 157,
   "metadata": {},
   "outputs": [
    {
     "name": "stdout",
     "output_type": "stream",
     "text": [
      "01100001011000100110001110000000000000000000000000000000000000000000000000000000000000000000000000000000000000000000000000000000000000000000000000000000000000000000000000000000000000000000000000000000000000000000000000000000000000000000000000000000000000000000000000000000000000000000000000000000000000000000000000000000000000000000000000000000000000000000000000000000000000000000000000000000000000000000000000000000000000000000000000000000000000000000000000000000000000000000000000000000000000000000000000011000\n"
     ]
    },
    {
     "data": {
      "text/plain": [
       "512"
      ]
     },
     "execution_count": 157,
     "metadata": {},
     "output_type": "execute_result"
    }
   ],
   "source": [
    "test=rembourrage('abc')\n",
    "print(test)\n",
    "len(test)"
   ]
  },
  {
   "cell_type": "markdown",
   "metadata": {},
   "source": [
    "### Découpage en blocs\n",
    "Découpe un ensemble de bits en blocs de 512 bits"
   ]
  },
  {
   "cell_type": "code",
   "execution_count": 158,
   "metadata": {},
   "outputs": [],
   "source": [
    "def découpageBlocs(rembourré):\n",
    "    listeblocs=[]\n",
    "    for i in range(len(rembourré)//512):\n",
    "        listeblocs.append(str(rembourré[i*512:(i+1)*512]))\n",
    "    return listeblocs  #liste contenant les blocs"
   ]
  },
  {
   "cell_type": "markdown",
   "metadata": {},
   "source": [
    "Exemple :\n",
    "Découpage du message 'abc' rembourré \n",
    "\n",
    "On remarque qu'on a alors une liste d'1 bloc de 512 bits"
   ]
  },
  {
   "cell_type": "code",
   "execution_count": 159,
   "metadata": {},
   "outputs": [
    {
     "name": "stdout",
     "output_type": "stream",
     "text": [
      "['01100001011000100110001110000000000000000000000000000000000000000000000000000000000000000000000000000000000000000000000000000000000000000000000000000000000000000000000000000000000000000000000000000000000000000000000000000000000000000000000000000000000000000000000000000000000000000000000000000000000000000000000000000000000000000000000000000000000000000000000000000000000000000000000000000000000000000000000000000000000000000000000000000000000000000000000000000000000000000000000000000000000000000000000000011000']\n"
     ]
    },
    {
     "data": {
      "text/plain": [
       "1"
      ]
     },
     "execution_count": 159,
     "metadata": {},
     "output_type": "execute_result"
    }
   ],
   "source": [
    "test=découpageBlocs(test)\n",
    "print(test)\n",
    "len(test)"
   ]
  },
  {
   "cell_type": "markdown",
   "metadata": {},
   "source": [
    "### Division en mots\n",
    "Un bloc de 512 bits est divisé en une liste 'mots' de 16 mots de 32 bits"
   ]
  },
  {
   "cell_type": "code",
   "execution_count": 160,
   "metadata": {},
   "outputs": [],
   "source": [
    "def division32bits(bloc):\n",
    "    mots=[]\n",
    "    for i in range(512//32):\n",
    "        mots.append(str(bloc[i*32:(i+1)*32]))\n",
    "    return mots                                #liste contenant les mots"
   ]
  },
  {
   "cell_type": "markdown",
   "metadata": {},
   "source": [
    "Exemple :\n",
    "Découpage du bloc précédent"
   ]
  },
  {
   "cell_type": "code",
   "execution_count": 161,
   "metadata": {},
   "outputs": [
    {
     "data": {
      "text/plain": [
       "['01100001011000100110001110000000',\n",
       " '00000000000000000000000000000000',\n",
       " '00000000000000000000000000000000',\n",
       " '00000000000000000000000000000000',\n",
       " '00000000000000000000000000000000',\n",
       " '00000000000000000000000000000000',\n",
       " '00000000000000000000000000000000',\n",
       " '00000000000000000000000000000000',\n",
       " '00000000000000000000000000000000',\n",
       " '00000000000000000000000000000000',\n",
       " '00000000000000000000000000000000',\n",
       " '00000000000000000000000000000000',\n",
       " '00000000000000000000000000000000',\n",
       " '00000000000000000000000000000000',\n",
       " '00000000000000000000000000000000',\n",
       " '00000000000000000000000000011000']"
      ]
     },
     "execution_count": 161,
     "metadata": {},
     "output_type": "execute_result"
    }
   ],
   "source": [
    "division32bits(test[0])\n"
   ]
  },
  {
   "cell_type": "markdown",
   "metadata": {},
   "source": [
    "### Annexe : Définition des fonctions binaires bit à bit"
   ]
  },
  {
   "cell_type": "code",
   "execution_count": 162,
   "metadata": {},
   "outputs": [
    {
     "name": "stdout",
     "output_type": "stream",
     "text": [
      "a : 11111111111111111111111111111111\n",
      "b : 01010101010101010101010101010101\n",
      "c : 00000000000000001111111111111111\n"
     ]
    }
   ],
   "source": [
    "a='11'*16\n",
    "b='01'*16\n",
    "c='0'*16+'1'*16\n",
    "print('a : ' + a)\n",
    "print('b : ' + b)\n",
    "print('c : ' + c)"
   ]
  },
  {
   "cell_type": "markdown",
   "metadata": {},
   "source": [
    "\n",
    "Addition modulo $2^{32}$ de a et b"
   ]
  },
  {
   "cell_type": "code",
   "execution_count": 163,
   "metadata": {},
   "outputs": [],
   "source": [
    "def ADD32(a,b): \n",
    "    if len(a)!=len(b) or len(a)!=32:\n",
    "        raise Exception\n",
    "    a=a[::-1]\n",
    "    b=b[::-1]\n",
    "    s=''\n",
    "    k=0\n",
    "    for i in range(32):\n",
    "        if a[i]==b[i] and a[i]=='1':\n",
    "            if k==1:\n",
    "                s+='1'\n",
    "            else:\n",
    "                s+='0'\n",
    "            k=1\n",
    "        elif a[i]==b[i] and a[i]=='0':\n",
    "            if k==1:\n",
    "                s+='1'\n",
    "            else:\n",
    "                s+='0'\n",
    "            k=0\n",
    "        else:\n",
    "            if k==1:\n",
    "                s+='0'\n",
    "            else:\n",
    "                s+='1'\n",
    "    s=s[::-1]\n",
    "    return s"
   ]
  },
  {
   "cell_type": "code",
   "execution_count": 164,
   "metadata": {},
   "outputs": [
    {
     "name": "stdout",
     "output_type": "stream",
     "text": [
      "  11111111111111111111111111111111\n",
      "+ 01010101010101010101010101010101\n",
      "  01010101010101010101010101010100\n"
     ]
    }
   ],
   "source": [
    "print('  ' + a)\n",
    "print('+ ' + b)\n",
    "print('  ' + ADD32(a,b))"
   ]
  },
  {
   "cell_type": "markdown",
   "metadata": {},
   "source": [
    "Fonction ET, NON, OU, OU EXCLUSIF binaires"
   ]
  },
  {
   "cell_type": "code",
   "execution_count": 165,
   "metadata": {},
   "outputs": [],
   "source": [
    "\n",
    "def NOT(a):#a est codé en binaire \n",
    "    l=len(a)\n",
    "    s=''\n",
    "    for i in range(l):\n",
    "        s+=str(1-int(a[i]))\n",
    "    return s\n",
    "\n",
    "def AND(a,b):#a et b sont codés en binaire \n",
    "    if len(a)!=len(b):\n",
    "        raise Exception\n",
    "    l=len(a)\n",
    "    s=''\n",
    "    for i in range(l):\n",
    "        s+=str(int(a[i])*int(b[i]))\n",
    "    return s\n",
    "\n",
    "def OR(a,b):#a et b sont codés en binaire \n",
    "    if len(a)!=len(b):\n",
    "        raise Exception\n",
    "    l=len(a)\n",
    "    s=''\n",
    "    for i in range(l):\n",
    "        if int(a[i])==1 or int(b[i])==1:\n",
    "            s+='1'\n",
    "        else :\n",
    "            s+='0'\n",
    "    return s\n",
    "\n",
    "def XOR(a,b):#a est codé en binaire\n",
    "    if len(a)!=len(b):\n",
    "        raise Exception\n",
    "    l=len(a)\n",
    "    s=''\n",
    "    for i in range(l):\n",
    "        s+=str((int(a[i])+int(b[i]))%2)\n",
    "    return s\n",
    "\n",
    "def multiXOR(L): #liste de mots binaires supposés de même longueur\n",
    "    l=len(L[0])\n",
    "    s=''\n",
    "    for i in range(l):\n",
    "        val=0\n",
    "        for mot in L:\n",
    "            val+=int(mot[i])\n",
    "        s+=str(val%2)\n",
    "    return s\n",
    "\n",
    "\n"
   ]
  },
  {
   "cell_type": "code",
   "execution_count": 166,
   "metadata": {},
   "outputs": [
    {
     "name": "stdout",
     "output_type": "stream",
     "text": [
      "    a: 11111111111111111111111111111111\n",
      "NON a: 00000000000000000000000000000000\n"
     ]
    }
   ],
   "source": [
    "print('    a: ' + a)\n",
    "print('NON a: ' + NOT(a))"
   ]
  },
  {
   "cell_type": "code",
   "execution_count": 167,
   "metadata": {},
   "outputs": [
    {
     "name": "stdout",
     "output_type": "stream",
     "text": [
      "   11111111111111111111111111111111\n",
      "ET 01010101010101010101010101010101\n",
      "   01010101010101010101010101010101\n"
     ]
    }
   ],
   "source": [
    "print('   ' + a)\n",
    "print('ET ' + b)\n",
    "print('   ' + AND(a,b))"
   ]
  },
  {
   "cell_type": "code",
   "execution_count": 168,
   "metadata": {},
   "outputs": [
    {
     "name": "stdout",
     "output_type": "stream",
     "text": [
      "   11111111111111111111111111111111\n",
      "OU 01010101010101010101010101010101\n",
      "   11111111111111111111111111111111\n"
     ]
    }
   ],
   "source": [
    "print('   ' + a)\n",
    "print('OU ' + b)\n",
    "print('   ' + OR(a,b))"
   ]
  },
  {
   "cell_type": "code",
   "execution_count": 169,
   "metadata": {},
   "outputs": [
    {
     "name": "stdout",
     "output_type": "stream",
     "text": [
      "      11111111111111111111111111111111\n",
      "OU EX 01010101010101010101010101010101\n",
      "      10101010101010101010101010101010\n"
     ]
    }
   ],
   "source": [
    "print('      ' + a)\n",
    "print('OU EX ' + b)\n",
    "print('      ' + XOR(a,b))"
   ]
  },
  {
   "cell_type": "markdown",
   "metadata": {},
   "source": [
    "Fonctions de Rotation et Decalage binaires\n",
    "\n",
    "$SHIFTR^{n}(x)=x>>n$\n",
    "\n",
    "$ROTR^{n}(x)=(x>>n) ou (x<<(32-n))$\n",
    "\n"
   ]
  },
  {
   "cell_type": "code",
   "execution_count": 170,
   "metadata": {},
   "outputs": [],
   "source": [
    "def DecalageDroite(a,n):\n",
    "    l=len(a)\n",
    "    s=''\n",
    "    s+='0'*n\n",
    "    s+=str(a[:l-n])\n",
    "    return s\n",
    "\n",
    "def RotationDroite(a,n): \n",
    "    l=len(a)\n",
    "    s=''\n",
    "    s+=str(a[-n:])\n",
    "    s+=str(a[:l-n])\n",
    "    return s    "
   ]
  },
  {
   "cell_type": "code",
   "execution_count": 171,
   "metadata": {},
   "outputs": [
    {
     "name": "stdout",
     "output_type": "stream",
     "text": [
      "      c: 00000000000000001111111111111111\n",
      "DecD5 c: 00000000000000000000011111111111\n",
      "RotD5 c: 11111000000000000000011111111111\n"
     ]
    }
   ],
   "source": [
    "print('      c: ' + c)\n",
    "print('DecD5 c: ' + DecalageDroite(c,5))\n",
    "print('RotD5 c: ' + RotationDroite(c,5))"
   ]
  },
  {
   "cell_type": "markdown",
   "metadata": {},
   "source": [
    "Fonctions composées $Sigma$\n",
    "\n",
    "∑0(x) = ROTR 2(x) ⊕ ROTR 13(x) ⊕ ROTR 22(x)\n",
    "\n",
    "∑1(x) = ROTR 6(x) ⊕ ROTR 11(x) ⊕ ROTR 25(x)\n",
    "\n",
    "σ0(x) = ROTR 7(x) ⊕ ROTR 18(x) ⊕ SHR 3(x)\n",
    "\n",
    "σ1(x) = ROTR 17(x) ⊕ ROTR 19(x) ⊕ SHR 10(x)"
   ]
  },
  {
   "cell_type": "code",
   "execution_count": 172,
   "metadata": {},
   "outputs": [],
   "source": [
    "def SIGMA0(a):\n",
    "    a0=RotationDroite(a, 2)\n",
    "    a1=RotationDroite(a, 13)\n",
    "    a2=RotationDroite(a, 22)\n",
    "    a3=multiXOR((a0,a1,a2))\n",
    "    return a3\n",
    "    \n",
    "def SIGMA1(a):\n",
    "    a0=RotationDroite(a, 6)\n",
    "    a1=RotationDroite(a, 11)\n",
    "    a2=RotationDroite(a, 25)\n",
    "    a3=multiXOR((a0,a1,a2))\n",
    "    return a3\n",
    "\n",
    "def sigma0(a):\n",
    "    a0=RotationDroite(a, 7)\n",
    "    a1=RotationDroite(a, 18)\n",
    "    a2=DecalageDroite(a, 3)\n",
    "    a3=multiXOR((a0,a1,a2))\n",
    "    return a3\n",
    "    \n",
    "def sigma1(a):\n",
    "    a0=RotationDroite(a, 17)\n",
    "    a1=RotationDroite(a, 19)\n",
    "    a2=DecalageDroite(a, 10)\n",
    "    a3=multiXOR((a0,a1,a2))\n",
    "    return a3\n"
   ]
  },
  {
   "cell_type": "markdown",
   "metadata": {},
   "source": [
    "Fonctions particulières $Choix$ et $Majorité$\n",
    "\n",
    "Ch(x, y,z) = (x ∧ y) ⊕ (¬x ∧ z)\n",
    "\n",
    "Maj(x, y,z) = (x ∧ y) ⊕ (x ∧ z) ⊕ ( y ∧ z)"
   ]
  },
  {
   "cell_type": "code",
   "execution_count": 173,
   "metadata": {},
   "outputs": [],
   "source": [
    "\n",
    "def Choix(a,b,c):\n",
    "    if len(a)!=len(b) or len(b)!=len(c):\n",
    "        raise Exception\n",
    "    l=len(a)\n",
    "    r=''\n",
    "    for i in range(l):\n",
    "        if a[i]=='0':\n",
    "            r+=c[i]\n",
    "        else:\n",
    "            r+=b[i]\n",
    "    return r\n",
    "\n",
    "\n",
    "\n",
    "def Maj(a,b,c):\n",
    "    if len(a)!=len(b) or len(b)!=len(c):\n",
    "        raise Exception\n",
    "    l=len(a)\n",
    "    s=''\n",
    "    for i in range(l):\n",
    "        k=0\n",
    "        if a[i]=='1':\n",
    "            k+=1\n",
    "        if b[i]=='1':\n",
    "            k+=1\n",
    "        if c[i]=='1':\n",
    "            k+=1\n",
    "        if k>1:\n",
    "            s+='1'\n",
    "        else:\n",
    "            s+='0'\n",
    "    return s"
   ]
  },
  {
   "cell_type": "code",
   "execution_count": 174,
   "metadata": {},
   "outputs": [
    {
     "name": "stdout",
     "output_type": "stream",
     "text": [
      "->    00000000000000001111111111111111\n",
      "Ch 1  01010101010101010101010101010101\n",
      "Ch 0  11111111111111111111111111111111\n",
      "      11111111111111110101010101010101\n"
     ]
    }
   ],
   "source": [
    "print('->    ' + c)\n",
    "print('Ch 1  ' + b)\n",
    "print('Ch 0  ' + a)\n",
    "print('      ' + Choix(c,b,a))"
   ]
  },
  {
   "cell_type": "code",
   "execution_count": 175,
   "metadata": {},
   "outputs": [
    {
     "name": "stdout",
     "output_type": "stream",
     "text": [
      " a   11111111111111111111111111111111\n",
      " b   01010101010101010101010101010101\n",
      " c   00000000000000001111111111111111\n",
      "Maj  01010101010101011111111111111111\n"
     ]
    }
   ],
   "source": [
    "print(' a   ' + a)\n",
    "print(' b   ' + b)\n",
    "print(' c   ' + c)\n",
    "print('Maj  ' + Maj(a,b,c))"
   ]
  },
  {
   "cell_type": "markdown",
   "metadata": {},
   "source": [
    "### Annexe : Fonction d'affichage"
   ]
  },
  {
   "cell_type": "code",
   "execution_count": 271,
   "metadata": {},
   "outputs": [],
   "source": [
    "def afficheTableau(tab):\n",
    "    plt.figure(figsize=(10, 10))\n",
    "    plt.imshow(tab,'Greys',vmin=0,vmax=1)\n",
    "    \n",
    "def enBits(liste):\n",
    "    listeBits=[[] for i in range(len(liste))]\n",
    "    for i in range(len(liste)):\n",
    "        for j in range(len(liste[i])):\n",
    "            listeBits[i].append(float(liste[i][j]))\n",
    "    return listeBits\n",
    "            "
   ]
  },
  {
   "cell_type": "markdown",
   "metadata": {},
   "source": [
    "\n",
    "## II. Expansion\n",
    "On transforme les 16 mots d'une liste en 64 mots en les recombinant avec une relation de récurrence\n"
   ]
  },
  {
   "cell_type": "code",
   "execution_count": 272,
   "metadata": {},
   "outputs": [],
   "source": [
    "def expansion(M): \n",
    "    mots=division32bits(M) \n",
    "    for t in range(16,64):\n",
    "        m=ADD32(sigma1(mots[t-2]),mots[t-7])\n",
    "        m=ADD32(m,sigma0(mots[t-15]))\n",
    "        m=ADD32(m,mots[t-16])\n",
    "        mots.append(m)\n",
    "    return mots"
   ]
  },
  {
   "cell_type": "markdown",
   "metadata": {},
   "source": [
    "Exemple :\n",
    "Expansion de la liste des mots précédente\n",
    "\n",
    "La ième ligne représente le ième mot (0=blanc et 1=noir)"
   ]
  },
  {
   "cell_type": "code",
   "execution_count": 273,
   "metadata": {},
   "outputs": [
    {
     "data": {
      "image/png": "[encoded data removed]",
      "text/plain": [
       "<Figure size 720x720 with 1 Axes>"
      ]
     },
     "metadata": {
      "needs_background": "light"
     },
     "output_type": "display_data"
    }
   ],
   "source": [
    "afficheTableau(enBits(expansion(test[0])))"
   ]
  },
  {
   "cell_type": "markdown",
   "metadata": {},
   "source": [
    "### Importation des constantes de SHA-256\n"
   ]
  },
  {
   "cell_type": "code",
   "execution_count": 274,
   "metadata": {},
   "outputs": [],
   "source": [
    "ListeConstantes= open('SHA256 constants.txt').read().split()\n",
    "K=[]\n",
    "for k in ListeConstantes:\n",
    "    K.append(bin(int(k,16)+2**32)[3:])"
   ]
  },
  {
   "cell_type": "code",
   "execution_count": 275,
   "metadata": {},
   "outputs": [
    {
     "data": {
      "image/png": "[encoded data removed]",
      "text/plain": [
       "<Figure size 720x720 with 1 Axes>"
      ]
     },
     "metadata": {
      "needs_background": "light"
     },
     "output_type": "display_data"
    }
   ],
   "source": [
    "afficheTableau(enBits(K))"
   ]
  },
  {
   "cell_type": "markdown",
   "metadata": {},
   "source": [
    "\n",
    "## III. Fonction de mise à jour des états du registre\n",
    "C'est-à-dire la fonction qui transforme les mots en haché, de manière récursive\n"
   ]
  },
  {
   "cell_type": "markdown",
   "metadata": {},
   "source": [
    "+ Ai+1 = 1Σ(Ei) + Ch(Ei,Fi,Gi) + Hi + Wi + Ki + Σ0(Ai) + Maj(Ai,Bi,Ci)\n",
    "+ Bi+1 = Ai\n",
    "+ Ci+1 = Bi\n",
    "+ Di+1 = Ci\n",
    "+ Ei+1 = Σ1(Ei) + Ch(Ei,Fi,Gi) + Hi + Wi + Ki + Di\n",
    "+ Fi+1 = Ei\n",
    "+ Gi+1 = Fi\n",
    "+ Hi+1 = Gi"
   ]
  },
  {
   "cell_type": "code",
   "execution_count": 276,
   "metadata": {},
   "outputs": [],
   "source": [
    "def MAJetatRegistre(H,M):\n",
    "    a=H[0]\n",
    "    b=H[1]\n",
    "    c=H[2]\n",
    "    d=H[3]\n",
    "    e=H[4]\n",
    "    f=H[5]\n",
    "    g=H[6]\n",
    "    h=H[7]\n",
    "    for t in range(64):\n",
    "        T1=ADD32(ADD32(h,SIGMA1(e)),ADD32(Choix(e,f,g),ADD32(K[t],M[t])))\n",
    "        T2=ADD32(SIGMA0(a),Maj(a,b,c))\n",
    "        h=g\n",
    "        g=f\n",
    "        f=e\n",
    "        e=ADD32(d,T1)\n",
    "        d=c\n",
    "        c=b\n",
    "        b=a\n",
    "        a=ADD32(T1,T2)\n",
    "    H[0]=ADD32(a,H[0])\n",
    "    H[1]=ADD32(b,H[1])\n",
    "    H[2]=ADD32(c,H[2])\n",
    "    H[3]=ADD32(d,H[3])\n",
    "    H[4]=ADD32(e,H[4])\n",
    "    H[5]=ADD32(f,H[5])\n",
    "    H[6]=ADD32(g,H[6])\n",
    "    H[7]=ADD32(h,H[7])\n",
    "    return H"
   ]
  },
  {
   "cell_type": "markdown",
   "metadata": {},
   "source": [
    "### Etapes de calcul du haché\n",
    "On calcule le haché intermédiaire de chaque bloc (de 512 bits), qui est réutilisé comme haché initial pour le traitement du bloc suivant \n",
    "\n",
    "Le haché initial du premier bloc est défini par h0 jusqu'à h7, qui correspondent aux mots $a$ à $h$ initialement"
   ]
  },
  {
   "cell_type": "code",
   "execution_count": 277,
   "metadata": {},
   "outputs": [],
   "source": [
    "def etapes(L):\n",
    "    l=len(L)\n",
    "    h0 = bin(int('6a09e667',16)+2**32)[3:]\n",
    "    h1 = bin(int('bb67ae85',16)+2**32)[3:]\n",
    "    h2 = bin(int('3c6ef372',16)+2**32)[3:]\n",
    "    h3 = bin(int('a54ff53a',16)+2**32)[3:]\n",
    "    h4 = bin(int('510e527f',16)+2**32)[3:]\n",
    "    h5 = bin(int('9b05688c',16)+2**32)[3:]\n",
    "    h6 = bin(int('1f83d9ab',16)+2**32)[3:]\n",
    "    h7 = bin(int('5be0cd19',16)+2**32)[3:]\n",
    "    H=[h0,h1,h2,h3,h4,h5,h6,h7]\n",
    "    for i in range(1,l+1):\n",
    "        M=expansion(L[i-1])\n",
    "        H=MAJetatRegistre(H,M)\n",
    "    H=H[0]+H[1]+H[2]+H[3]+H[4]+H[5]+H[6]+H[7]\n",
    "    return H"
   ]
  },
  {
   "cell_type": "markdown",
   "metadata": {},
   "source": [
    "Exemple : calcul du haché en bit du message $abc$"
   ]
  },
  {
   "cell_type": "code",
   "execution_count": 284,
   "metadata": {},
   "outputs": [
    {
     "name": "stdout",
     "output_type": "stream",
     "text": [
      "1011101001111000000101101011111110001111000000011100111111101010010000010100000101000000110111100101110110101110001000100010001110110000000000110110000110100011100101100001011101111010100111001011010000010000111111110110000111110010000000000001010110101101\n"
     ]
    },
    {
     "data": {
      "text/plain": [
       "256"
      ]
     },
     "execution_count": 284,
     "metadata": {},
     "output_type": "execute_result"
    }
   ],
   "source": [
    "R=rembourrage('abc')    \n",
    "L=découpageBlocs(R)\n",
    "H=etapes(L)\n",
    "print(H)\n",
    "len(H)"
   ]
  },
  {
   "cell_type": "markdown",
   "metadata": {},
   "source": [
    "### Calcul du hexdigest\n",
    "On transforme le haché final de 256 bits en hexadécimal (suite de 64 caractères)"
   ]
  },
  {
   "cell_type": "code",
   "execution_count": 279,
   "metadata": {},
   "outputs": [],
   "source": [
    "def digest(H): #renvoie un hexdigest du haché \n",
    "    d=hex(int(H, 2))[2:]\n",
    "    return d"
   ]
  },
  {
   "cell_type": "markdown",
   "metadata": {},
   "source": [
    "Exemple : calcul du haché en hexadécimal du message $abc$"
   ]
  },
  {
   "cell_type": "code",
   "execution_count": 286,
   "metadata": {},
   "outputs": [
    {
     "data": {
      "text/plain": [
       "'ba7816bf8f01cfea414140de5dae2223b00361a396177a9cb410ff61f20015ad'"
      ]
     },
     "execution_count": 286,
     "metadata": {},
     "output_type": "execute_result"
    }
   ],
   "source": [
    "digest(H)"
   ]
  },
  {
   "cell_type": "markdown",
   "metadata": {},
   "source": [
    "On peut comparer cette valeur avec la valeur donnée par le module hashlib"
   ]
  },
  {
   "cell_type": "code",
   "execution_count": 292,
   "metadata": {},
   "outputs": [
    {
     "data": {
      "text/plain": [
       "'ba7816bf8f01cfea414140de5dae2223b00361a396177a9cb410ff61f20015ad'"
      ]
     },
     "execution_count": 292,
     "metadata": {},
     "output_type": "execute_result"
    }
   ],
   "source": [
    "hashlib.sha256(b'abc').hexdigest()"
   ]
  },
  {
   "cell_type": "markdown",
   "metadata": {},
   "source": [
    "## IV. Fonction SHA-256 en Python\n",
    "\n",
    "Finalement, en condensant les parties précédentes, on a SHA-256 implémenté en Python"
   ]
  },
  {
   "cell_type": "code",
   "execution_count": 293,
   "metadata": {},
   "outputs": [],
   "source": [
    "def SHA256(m):\n",
    "    R=rembourrage(m)\n",
    "    L=découpageBlocs(R)\n",
    "    H=etapes(L)\n",
    "    d=digest(H)\n",
    "    return d"
   ]
  },
  {
   "cell_type": "markdown",
   "metadata": {},
   "source": [
    "Et voilà le travail :)"
   ]
  },
  {
   "cell_type": "code",
   "execution_count": 304,
   "metadata": {},
   "outputs": [
    {
     "data": {
      "text/plain": [
       "'ba7816bf8f01cfea414140de5dae2223b00361a396177a9cb410ff61f20015ad'"
      ]
     },
     "execution_count": 304,
     "metadata": {},
     "output_type": "execute_result"
    }
   ],
   "source": [
    "SHA256('abc')"
   ]
  },
  {
   "cell_type": "code",
   "execution_count": null,
   "metadata": {},
   "outputs": [],
   "source": []
  }
 ],
 "metadata": {
  "interpreter": {
   "hash": "8fac594bfae6525c0c41b4041d2d72effa188cc8ead05f81b1fab2bb098927fb"
  },
  "kernelspec": {
   "display_name": "Python 3.9.7 ('base')",
   "language": "python",
   "name": "python3"
  },
  "language_info": {
   "codemirror_mode": {
    "name": "ipython",
    "version": 3
   },
   "file_extension": ".py",
   "mimetype": "text/x-python",
   "name": "python",
   "nbconvert_exporter": "python",
   "pygments_lexer": "ipython3",
   "version": "3.8.12"
  },
  "orig_nbformat": 4
 },
 "nbformat": 4,
 "nbformat_minor": 2
}
