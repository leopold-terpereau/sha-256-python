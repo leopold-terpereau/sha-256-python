{
 "cells": [
  {
   "attachments": {},
   "cell_type": "markdown",
   "metadata": {},
   "source": [
    "# SHA-256 en Python"
   ]
  },
  {
   "attachments": {},
   "cell_type": "markdown",
   "metadata": {},
   "source": [
    "### Auteur : Léopold Terpereau\n",
    "Basé sur le rapport du National Institute of Standards and Technology:\n",
    "    https://csrc.nist.gov/csrc/media/publications/fips/180/2/archive/2002-08-01/documents/fips180-2.pdf\n",
    "\n",
    "Chaque définition de fonction est suivie d'un exemple"
   ]
  },
  {
   "attachments": {},
   "cell_type": "markdown",
   "metadata": {},
   "source": [
    "## Modules utilisés"
   ]
  },
  {
   "cell_type": "code",
   "execution_count": 1,
   "metadata": {},
   "outputs": [],
   "source": [
    "\n",
    "import numpy as np\n",
    "import math\n",
    "import matplotlib.pyplot as plt\n",
    "import random as r\n",
    "import hashlib\n",
    "import re\n",
    "import time\n",
    "import qrcode\n",
    "%matplotlib inline"
   ]
  },
  {
   "attachments": {},
   "cell_type": "markdown",
   "metadata": {},
   "source": [
    "### Annexe : Définition des fonctions binaires bit à bit"
   ]
  },
  {
   "cell_type": "code",
   "execution_count": 2,
   "metadata": {},
   "outputs": [
    {
     "name": "stdout",
     "output_type": "stream",
     "text": [
      "a = 11111111111111111111111111111111\n",
      "b = 01010101010101010101010101010101\n",
      "c = 00000000000000001111111111111111\n"
     ]
    }
   ],
   "source": [
    "a='11'*16\n",
    "b='01'*16\n",
    "c='0'*16+'1'*16\n",
    "print('a = ' + a)\n",
    "print('b = ' + b)\n",
    "print('c = ' + c)"
   ]
  },
  {
   "attachments": {},
   "cell_type": "markdown",
   "metadata": {},
   "source": [
    "Addition modulo $2^{32}$ de a et b"
   ]
  },
  {
   "cell_type": "code",
   "execution_count": 3,
   "metadata": {},
   "outputs": [
    {
     "name": "stdout",
     "output_type": "stream",
     "text": [
      "  a + b \n",
      "\n",
      "  11111111111111111111111111111111\n",
      "+ 01010101010101010101010101010101\n",
      "= 01010101010101010101010101010100\n"
     ]
    }
   ],
   "source": [
    "def ADD32(a,b): \n",
    "    if len(a)!=len(b) or len(a)!=32:\n",
    "        raise Exception\n",
    "    a=a[::-1]\n",
    "    b=b[::-1]\n",
    "    s=''\n",
    "    k=0\n",
    "    for i in range(32):\n",
    "        if a[i]==b[i] and a[i]=='1':\n",
    "            if k==1:\n",
    "                s+='1'\n",
    "            else:\n",
    "                s+='0'\n",
    "            k=1\n",
    "        elif a[i]==b[i] and a[i]=='0':\n",
    "            if k==1:\n",
    "                s+='1'\n",
    "            else:\n",
    "                s+='0'\n",
    "            k=0\n",
    "        else:\n",
    "            if k==1:\n",
    "                s+='0'\n",
    "            else:\n",
    "                s+='1'\n",
    "    s=s[::-1]\n",
    "    return s\n",
    "\n",
    "print('  a + b \\n')\n",
    "print('  ' + a)\n",
    "print('+ ' + b)\n",
    "print('= ' + ADD32(a,b))\n",
    "\n"
   ]
  },
  {
   "attachments": {},
   "cell_type": "markdown",
   "metadata": {},
   "source": [
    "\n",
    "Fonction NON, ET, OU, OU EXCLUSIF binaires"
   ]
  },
  {
   "cell_type": "code",
   "execution_count": 4,
   "metadata": {},
   "outputs": [],
   "source": [
    "\n",
    "def NOT(a):#a est codé en binaire \n",
    "    l=len(a)\n",
    "    s=''\n",
    "    for i in range(l):\n",
    "        s+=str(1-int(a[i]))\n",
    "    return s\n",
    "\n",
    "def AND(a,b):#a et b sont codés en binaire \n",
    "    if len(a)!=len(b):\n",
    "        raise Exception\n",
    "    l=len(a)\n",
    "    s=''\n",
    "    for i in range(l):\n",
    "        s+=str(int(a[i])*int(b[i]))\n",
    "    return s\n",
    "\n",
    "def OR(a,b):#a et b sont codés en binaire \n",
    "    if len(a)!=len(b):\n",
    "        raise Exception\n",
    "    l=len(a)\n",
    "    s=''\n",
    "    for i in range(l):\n",
    "        if int(a[i])==1 or int(b[i])==1:\n",
    "            s+='1'\n",
    "        else :\n",
    "            s+='0'\n",
    "    return s\n",
    "\n",
    "def XOR(a,b):#a est codé en binaire\n",
    "    if len(a)!=len(b):\n",
    "        raise Exception\n",
    "    l=len(a)\n",
    "    s=''\n",
    "    for i in range(l):\n",
    "        s+=str((int(a[i])+int(b[i]))%2)\n",
    "    return s\n",
    "\n",
    "def multiXOR(L): #liste de mots binaires supposés de même longueur\n",
    "    l=len(L[0])\n",
    "    s=''\n",
    "    for i in range(l):\n",
    "        val=0\n",
    "        for mot in L:\n",
    "            val+=int(mot[i])\n",
    "        s+=str(val%2)\n",
    "    return s\n",
    "\n",
    "\n"
   ]
  },
  {
   "cell_type": "code",
   "execution_count": 5,
   "metadata": {},
   "outputs": [
    {
     "name": "stdout",
     "output_type": "stream",
     "text": [
      "    a = 11111111111111111111111111111111\n",
      "NON a = 00000000000000000000000000000000\n"
     ]
    }
   ],
   "source": [
    "\n",
    "print('    a = ' + a)\n",
    "print('NON a = ' + NOT(a))"
   ]
  },
  {
   "cell_type": "code",
   "execution_count": 6,
   "metadata": {},
   "outputs": [
    {
     "name": "stdout",
     "output_type": "stream",
     "text": [
      "   11111111111111111111111111111111\n",
      "ET 01010101010101010101010101010101\n",
      " = 01010101010101010101010101010101\n"
     ]
    }
   ],
   "source": [
    "\n",
    "print('   ' + a)\n",
    "print('ET ' + b)\n",
    "print(' = ' + AND(a,b))"
   ]
  },
  {
   "cell_type": "code",
   "execution_count": 7,
   "metadata": {},
   "outputs": [
    {
     "name": "stdout",
     "output_type": "stream",
     "text": [
      "   11111111111111111111111111111111\n",
      "OU 01010101010101010101010101010101\n",
      " = 11111111111111111111111111111111\n"
     ]
    }
   ],
   "source": [
    "\n",
    "print('   ' + a)\n",
    "print('OU ' + b)\n",
    "print(' = ' + OR(a,b))"
   ]
  },
  {
   "cell_type": "code",
   "execution_count": 8,
   "metadata": {},
   "outputs": [
    {
     "name": "stdout",
     "output_type": "stream",
     "text": [
      "      11111111111111111111111111111111\n",
      "OU EX 01010101010101010101010101010101\n",
      "    = 10101010101010101010101010101010\n"
     ]
    }
   ],
   "source": [
    "\n",
    "print('      ' + a)\n",
    "print('OU EX ' + b)\n",
    "print('    = ' + XOR(a,b))"
   ]
  },
  {
   "attachments": {},
   "cell_type": "markdown",
   "metadata": {},
   "source": [
    "Fonctions de Rotation et Decalage binaires\n",
    "\n",
    "$SHIFTR^{n}(x)=x>>n$\n",
    "\n",
    "$ROTR^{n}(x)=(x>>n) ou (x<<(32-n))$"
   ]
  },
  {
   "cell_type": "code",
   "execution_count": 9,
   "metadata": {},
   "outputs": [
    {
     "name": "stdout",
     "output_type": "stream",
     "text": [
      "      c = 00000000000000001111111111111111\n",
      "DecD5 c = 00000000000000000000011111111111\n",
      "RotD5 c = 11111000000000000000011111111111\n"
     ]
    }
   ],
   "source": [
    "def DecalageDroite(a,n):\n",
    "    l=len(a)\n",
    "    s=''\n",
    "    s+='0'*n\n",
    "    s+=str(a[:l-n])\n",
    "    return s\n",
    "\n",
    "def RotationDroite(a,n): \n",
    "    l=len(a)\n",
    "    s=''\n",
    "    s+=str(a[-n:])\n",
    "    s+=str(a[:l-n])\n",
    "    return s    \n",
    "print('      c = ' + c)\n",
    "print('DecD5 c = ' + DecalageDroite(c,5))\n",
    "print('RotD5 c = ' + RotationDroite(c,5))"
   ]
  },
  {
   "attachments": {},
   "cell_type": "markdown",
   "metadata": {},
   "source": [
    "Fonctions composées $Sigma$"
   ]
  },
  {
   "attachments": {},
   "cell_type": "markdown",
   "metadata": {},
   "source": [
    "∑0(x) = ROTR 2(x) ⊕ ROTR 13(x) ⊕ ROTR 22(x)\n",
    "\n",
    "∑1(x) = ROTR 6(x) ⊕ ROTR 11(x) ⊕ ROTR 25(x)\n",
    "\n",
    "σ0(x) = ROTR 7(x) ⊕ ROTR 18(x) ⊕ SHR 3(x)\n",
    "\n",
    "σ1(x) = ROTR 17(x) ⊕ ROTR 19(x) ⊕ SHR 10(x)"
   ]
  },
  {
   "cell_type": "code",
   "execution_count": 10,
   "metadata": {},
   "outputs": [],
   "source": [
    "def SIGMA0(a):\n",
    "    a0=RotationDroite(a, 2)\n",
    "    a1=RotationDroite(a, 13)\n",
    "    a2=RotationDroite(a, 22)\n",
    "    a3=multiXOR((a0,a1,a2))\n",
    "    return a3\n",
    "    \n",
    "def SIGMA1(a):\n",
    "    a0=RotationDroite(a, 6)\n",
    "    a1=RotationDroite(a, 11)\n",
    "    a2=RotationDroite(a, 25)\n",
    "    a3=multiXOR((a0,a1,a2))\n",
    "    return a3\n",
    "\n",
    "def sigma0(a):\n",
    "    a0=RotationDroite(a, 7)\n",
    "    a1=RotationDroite(a, 18)\n",
    "    a2=DecalageDroite(a, 3)\n",
    "    a3=multiXOR((a0,a1,a2))\n",
    "    return a3\n",
    "    \n",
    "def sigma1(a):\n",
    "    a0=RotationDroite(a, 17)\n",
    "    a1=RotationDroite(a, 19)\n",
    "    a2=DecalageDroite(a, 10)\n",
    "    a3=multiXOR((a0,a1,a2))\n",
    "    return a3\n",
    "\n",
    "\n"
   ]
  },
  {
   "attachments": {},
   "cell_type": "markdown",
   "metadata": {},
   "source": [
    "Fonctions particulières $Choix$ et $Majorité$\n",
    "\n",
    "Ch(x, y,z) = (x ∧ y) ⊕ (¬x ∧ z)\n",
    "\n",
    "Maj(x, y,z) = (x ∧ y) ⊕ (x ∧ z) ⊕ ( y ∧ z)"
   ]
  },
  {
   "cell_type": "code",
   "execution_count": 11,
   "metadata": {},
   "outputs": [],
   "source": [
    "\n",
    "def Choix(a,b,c):\n",
    "    if len(a)!=len(b) or len(b)!=len(c):\n",
    "        raise Exception\n",
    "    l=len(a)\n",
    "    r=''\n",
    "    for i in range(l):\n",
    "        if a[i]=='0':\n",
    "            r+=c[i]\n",
    "        else:\n",
    "            r+=b[i]\n",
    "    return r\n",
    "\n",
    "\n",
    "\n",
    "def Maj(a,b,c):\n",
    "    if len(a)!=len(b) or len(b)!=len(c):\n",
    "        raise Exception\n",
    "    l=len(a)\n",
    "    s=''\n",
    "    for i in range(l):\n",
    "        k=0\n",
    "        if a[i]=='1':\n",
    "            k+=1\n",
    "        if b[i]=='1':\n",
    "            k+=1\n",
    "        if c[i]=='1':\n",
    "            k+=1\n",
    "        if k>1:\n",
    "            s+='1'\n",
    "        else:\n",
    "            s+='0'\n",
    "    return s\n",
    "\n"
   ]
  },
  {
   "cell_type": "code",
   "execution_count": 12,
   "metadata": {},
   "outputs": [
    {
     "name": "stdout",
     "output_type": "stream",
     "text": [
      "->       00000000000000001111111111111111\n",
      "Choix 1  01010101010101010101010101010101\n",
      "Choix 0  11111111111111111111111111111111\n",
      "\n",
      "\n",
      "Choix 1                  0101010101010101\n",
      "Choix 0  1111111111111111                \n",
      "      =  11111111111111110101010101010101\n"
     ]
    }
   ],
   "source": [
    "print('->       ' + c)\n",
    "print('Choix 1  ' + b)\n",
    "print('Choix 0  ' + a)\n",
    "print('\\n')\n",
    "print('Choix 1  ' + ' '*16 + b[:16])\n",
    "print('Choix 0  ' + a[-16:] + ' '*16)\n",
    "\n",
    "\n",
    "print('      =  ' + Choix(c,b,a))\n"
   ]
  },
  {
   "cell_type": "code",
   "execution_count": 13,
   "metadata": {},
   "outputs": [
    {
     "name": "stdout",
     "output_type": "stream",
     "text": [
      " a    11111111111111111111111111111111\n",
      " b    01010101010101010101010101010101\n",
      " c    00000000000000001111111111111111\n",
      "Maj = 01010101010101011111111111111111\n"
     ]
    }
   ],
   "source": [
    "\n",
    "print(' a    ' + a)\n",
    "print(' b    ' + b)\n",
    "print(' c    ' + c)\n",
    "print('Maj = ' + Maj(a,b,c))"
   ]
  },
  {
   "attachments": {},
   "cell_type": "markdown",
   "metadata": {},
   "source": [
    "## I. Pré-traitement"
   ]
  },
  {
   "attachments": {},
   "cell_type": "markdown",
   "metadata": {},
   "source": [
    "### Conversion \n",
    "Conversion du message en ascii puis en binaire (sur 8 bits), en itérant sur chaque caractère"
   ]
  },
  {
   "cell_type": "code",
   "execution_count": 14,
   "metadata": {},
   "outputs": [],
   "source": [
    "def strBin(message): \n",
    "    return (''.join(format(ord(car),'08b') for car in message)) "
   ]
  },
  {
   "cell_type": "code",
   "execution_count": 15,
   "metadata": {},
   "outputs": [],
   "source": [
    "def strBinDecomposition(message):\n",
    "    car_list = [car for car in message]\n",
    "    ascii_list = [ord(car) for car in car_list]\n",
    "    bit_list = [format(number,'08b') for number in ascii_list]\n",
    "    print(car_list)\n",
    "    print(ascii_list)\n",
    "    print(bit_list)"
   ]
  },
  {
   "attachments": {},
   "cell_type": "markdown",
   "metadata": {},
   "source": [
    "#### Exemple : Conversion en binaire du message 'abc'"
   ]
  },
  {
   "cell_type": "code",
   "execution_count": 16,
   "metadata": {},
   "outputs": [
    {
     "name": "stdout",
     "output_type": "stream",
     "text": [
      "['a', 'b', 'c']\n",
      "[97, 98, 99]\n",
      "['01100001', '01100010', '01100011']\n"
     ]
    }
   ],
   "source": [
    "strBinDecomposition('abc')"
   ]
  },
  {
   "cell_type": "code",
   "execution_count": 17,
   "metadata": {},
   "outputs": [
    {
     "data": {
      "text/plain": [
       "'011000010110001001100011'"
      ]
     },
     "execution_count": 17,
     "metadata": {},
     "output_type": "execute_result"
    }
   ],
   "source": [
    "strBin('abc')"
   ]
  },
  {
   "attachments": {},
   "cell_type": "markdown",
   "metadata": {},
   "source": [
    "### Rembourrage\n",
    "Rembourre le message selon le procédé de Padding :\n",
    " \n",
    "Ajoute un 1 après le message converti en binaire, puis ajoute des 0, et enfin la longueur du message initial en binaire sur 64 bits"
   ]
  },
  {
   "cell_type": "code",
   "execution_count": 18,
   "metadata": {},
   "outputs": [],
   "source": [
    "def rembourrage(message):\n",
    "    rembourré=strBin(message)               #utilisation de la fonction précedente\n",
    "    l=len(rembourré)+2**64                  #ajout de 2**64 pour coder la longueur sur 64 bits\n",
    "    rembourré+='1'\n",
    "    while len(rembourré)%512!=448:          #ajout de 0 jusqu'à une longueur de 448 modulo 512\n",
    "        rembourré+='0'\n",
    "    rembourré+=bin(l)[-64:]                 #ajout de la longueur l en binaire du message initial\n",
    "    return(rembourré)"
   ]
  },
  {
   "attachments": {},
   "cell_type": "markdown",
   "metadata": {},
   "source": [
    "Exemple :\n",
    "Rembourrage du message 'abc'"
   ]
  },
  {
   "cell_type": "code",
   "execution_count": 19,
   "metadata": {},
   "outputs": [
    {
     "name": "stdout",
     "output_type": "stream",
     "text": [
      "Le message en binaire\n",
      "011000010110001001100011 \n",
      "\n",
      "On rajoute 1 puis des 0 jusqu'à atteindre une longueur de 448 modulo 512\n",
      "0110000101100010011000111000000000000000000000000000000000000000000000000000000000000000000000000000000000000000000000000000000000000000000000000000000000000000000000000000000000000000000000000000000000000000000000000000000000000000000000000000000000000000000000000000000000000000000000000000000000000000000000000000000000000000000000000000000000000000000000000000000000000000000000000000000000000000000000000000000000000000000000000000000000000000 \n",
      "\n",
      "Et la longueur du message binaire, codé sur 64 bits\n",
      "24 = 00...0011000\n",
      "01100001011000100110001110000000000000000000000000000000000000000000000000000000000000000000000000000000000000000000000000000000000000000000000000000000000000000000000000000000000000000000000000000000000000000000000000000000000000000000000000000000000000000000000000000000000000000000000000000000000000000000000000000000000000000000000000000000000000000000000000000000000000000000000000000000000000000000000000000000000000000000000000000000000000000000000000000000000000000000000000000000000000000000000000011000 \n",
      "\n",
      "Longueur finale : 512 bits\n"
     ]
    }
   ],
   "source": [
    "test=rembourrage('abc')\n",
    "print(\"Le message en binaire\")\n",
    "print(strBin('abc'),'\\n')\n",
    "print(\"On rajoute 1 puis des 0 jusqu\\'à atteindre une longueur de 448 modulo 512\")\n",
    "print(test[:448],'\\n')\n",
    "print(\"Et la longueur du message binaire, codé sur 64 bits\" )\n",
    "print(\"24 = 00...0011000\")\n",
    "print(test,'\\n')\n",
    "print(\"Longueur finale : \" + str(len(test)) + \" bits\")"
   ]
  },
  {
   "attachments": {},
   "cell_type": "markdown",
   "metadata": {},
   "source": [
    "### Découpage en blocs\n",
    "Découpe un ensemble de bits en blocs de 512 bits"
   ]
  },
  {
   "cell_type": "code",
   "execution_count": 20,
   "metadata": {},
   "outputs": [],
   "source": [
    "def découpageBlocs(rembourré):\n",
    "    listeblocs=[]\n",
    "    for i in range(len(rembourré)//512):\n",
    "        listeblocs.append(str(rembourré[i*512:(i+1)*512]))\n",
    "    return listeblocs  #liste contenant les blocs"
   ]
  },
  {
   "attachments": {},
   "cell_type": "markdown",
   "metadata": {},
   "source": [
    "#### Exemple : Découpage du message 'abc' rembourré \n",
    "\n",
    "On remarque qu'on a alors une liste d'1 bloc de 512 bits"
   ]
  },
  {
   "cell_type": "code",
   "execution_count": 21,
   "metadata": {},
   "outputs": [
    {
     "name": "stdout",
     "output_type": "stream",
     "text": [
      "['01100001011000100110001110000000000000000000000000000000000000000000000000000000000000000000000000000000000000000000000000000000000000000000000000000000000000000000000000000000000000000000000000000000000000000000000000000000000000000000000000000000000000000000000000000000000000000000000000000000000000000000000000000000000000000000000000000000000000000000000000000000000000000000000000000000000000000000000000000000000000000000000000000000000000000000000000000000000000000000000000000000000000000000000000011000']\n"
     ]
    },
    {
     "data": {
      "text/plain": [
       "1"
      ]
     },
     "execution_count": 21,
     "metadata": {},
     "output_type": "execute_result"
    }
   ],
   "source": [
    "test=découpageBlocs(test)\n",
    "print(test)\n",
    "len(test)"
   ]
  },
  {
   "attachments": {},
   "cell_type": "markdown",
   "metadata": {},
   "source": [
    "### Division en mots\n",
    "Un bloc de 512 bits est divisé en une liste 'mots' de 16 mots de 32 bits"
   ]
  },
  {
   "cell_type": "code",
   "execution_count": 22,
   "metadata": {},
   "outputs": [],
   "source": [
    "def division32bits(bloc):\n",
    "    mots=[]\n",
    "    for i in range(512//32):\n",
    "        mots.append(str(bloc[i*32:(i+1)*32]))\n",
    "    return mots                                #liste contenant les mots"
   ]
  },
  {
   "attachments": {},
   "cell_type": "markdown",
   "metadata": {},
   "source": [
    "#### Exemple : Découpage du bloc précédent"
   ]
  },
  {
   "cell_type": "code",
   "execution_count": 23,
   "metadata": {},
   "outputs": [
    {
     "data": {
      "text/plain": [
       "['01100001011000100110001110000000',\n",
       " '00000000000000000000000000000000',\n",
       " '00000000000000000000000000000000',\n",
       " '00000000000000000000000000000000',\n",
       " '00000000000000000000000000000000',\n",
       " '00000000000000000000000000000000',\n",
       " '00000000000000000000000000000000',\n",
       " '00000000000000000000000000000000',\n",
       " '00000000000000000000000000000000',\n",
       " '00000000000000000000000000000000',\n",
       " '00000000000000000000000000000000',\n",
       " '00000000000000000000000000000000',\n",
       " '00000000000000000000000000000000',\n",
       " '00000000000000000000000000000000',\n",
       " '00000000000000000000000000000000',\n",
       " '00000000000000000000000000011000']"
      ]
     },
     "execution_count": 23,
     "metadata": {},
     "output_type": "execute_result"
    }
   ],
   "source": [
    "division32bits(test[0])\n"
   ]
  },
  {
   "attachments": {},
   "cell_type": "markdown",
   "metadata": {},
   "source": [
    "### Annexe : Fonction d'affichage"
   ]
  },
  {
   "cell_type": "code",
   "execution_count": 24,
   "metadata": {},
   "outputs": [],
   "source": [
    "def afficheTableau(tab):\n",
    "    plt.figure(figsize=(10, 10))\n",
    "    plt.imshow(tab,'Greys',vmin=0,vmax=1)\n",
    "    \n",
    "def enBits(liste):\n",
    "    listeBits=[[] for i in range(len(liste))]\n",
    "    for i in range(len(liste)):\n",
    "        for j in range(len(liste[i])):\n",
    "            listeBits[i].append(float(liste[i][j]))\n",
    "    return listeBits\n",
    "            \n",
    "# Attends juste quelques cellules et tu vas comprendre "
   ]
  },
  {
   "attachments": {},
   "cell_type": "markdown",
   "metadata": {},
   "source": [
    "\n",
    "## II. Expansion\n",
    "On transforme les 16 mots d'une liste en 64 mots en les recombinant avec une relation de récurrence\n"
   ]
  },
  {
   "attachments": {},
   "cell_type": "markdown",
   "metadata": {},
   "source": [
    "$$   \n",
    "W_t = \\begin{cases}\n",
    "M_t & 0\\leq t \\leq 15\\\\\n",
    "\\sigma{_1}(W_{t-2}) + W_{t-7} + \\sigma{_0}(W_{t-15}) + W_{t-16} & 16\\leq t \\leq 63\\\\\n",
    "\\end{cases}\n",
    "$$"
   ]
  },
  {
   "cell_type": "code",
   "execution_count": 25,
   "metadata": {},
   "outputs": [],
   "source": [
    "def expansion(M): \n",
    "    mots=division32bits(M) \n",
    "    for t in range(16,64):\n",
    "        m=ADD32(sigma1(mots[t-2]),mots[t-7])\n",
    "        m=ADD32(m,sigma0(mots[t-15]))\n",
    "        m=ADD32(m,mots[t-16])\n",
    "        mots.append(m)\n",
    "    return mots"
   ]
  },
  {
   "attachments": {},
   "cell_type": "markdown",
   "metadata": {},
   "source": [
    "#### Exemple : Expansion de la liste des mots précédente\n",
    "\n",
    "La ième ligne représente le ième mot (0=blanc et 1=noir)"
   ]
  },
  {
   "cell_type": "code",
   "execution_count": 26,
   "metadata": {},
   "outputs": [
    {
     "data": {
      "image/png": "[encoded data removed]",
      "text/plain": [
       "<Figure size 1000x1000 with 1 Axes>"
      ]
     },
     "metadata": {},
     "output_type": "display_data"
    }
   ],
   "source": [
    "afficheTableau(enBits(expansion(test[0])))"
   ]
  },
  {
   "attachments": {},
   "cell_type": "markdown",
   "metadata": {},
   "source": [
    "### Importation des constantes de SHA-256\n"
   ]
  },
  {
   "cell_type": "code",
   "execution_count": 27,
   "metadata": {},
   "outputs": [],
   "source": [
    "ListeConstantes= \"428a2f98 71374491 b5c0fbcf e9b5dba5 3956c25b 59f111f1 923f82a4 ab1c5ed5 d807aa98 12835b01 243185be 550c7dc3 72be5d74 80deb1fe 9bdc06a7 c19bf174 e49b69c1 efbe4786 0fc19dc6 240ca1cc 2de92c6f 4a7484aa 5cb0a9dc 76f988da 983e5152 a831c66d b00327c8 bf597fc7 c6e00bf3 d5a79147 06ca6351 14292967 27b70a85 2e1b2138 4d2c6dfc 53380d13 650a7354 766a0abb 81c2c92e 92722c85 a2bfe8a1 a81a664b c24b8b70 c76c51a3 d192e819 d6990624 f40e3585 106aa070 19a4c116 1e376c08 2748774c 34b0bcb5 391c0cb3 4ed8aa4a 5b9cca4f 682e6ff3 748f82ee 78a5636f 84c87814 8cc70208 90befffa a4506ceb bef9a3f7 c67178f2\"\n",
    "\n",
    "K=[]\n",
    "for k in ListeConstantes.split() :\n",
    "    K.append(bin(int(k,16)+2**32)[3:])"
   ]
  },
  {
   "cell_type": "code",
   "execution_count": 28,
   "metadata": {},
   "outputs": [
    {
     "data": {
      "image/png": "[encoded data removed]",
      "text/plain": [
       "<Figure size 1000x1000 with 1 Axes>"
      ]
     },
     "metadata": {},
     "output_type": "display_data"
    }
   ],
   "source": [
    "afficheTableau(enBits(K))\n",
    "#les fameuses constantes"
   ]
  },
  {
   "attachments": {},
   "cell_type": "markdown",
   "metadata": {},
   "source": [
    "### Importation des hachés initiaux de SHA-256"
   ]
  },
  {
   "cell_type": "code",
   "execution_count": 29,
   "metadata": {},
   "outputs": [
    {
     "data": {
      "image/png": "[encoded data removed]",
      "text/plain": [
       "<Figure size 1000x1000 with 1 Axes>"
      ]
     },
     "metadata": {},
     "output_type": "display_data"
    }
   ],
   "source": [
    "h0 = bin(int('6a09e667',16)+2**32)[3:]\n",
    "h1 = bin(int('bb67ae85',16)+2**32)[3:]\n",
    "h2 = bin(int('3c6ef372',16)+2**32)[3:]\n",
    "h3 = bin(int('a54ff53a',16)+2**32)[3:]\n",
    "h4 = bin(int('510e527f',16)+2**32)[3:]\n",
    "h5 = bin(int('9b05688c',16)+2**32)[3:]\n",
    "h6 = bin(int('1f83d9ab',16)+2**32)[3:]\n",
    "h7 = bin(int('5be0cd19',16)+2**32)[3:]\n",
    "H=[h0,h1,h2,h3,h4,h5,h6,h7]\n",
    "afficheTableau(enBits(H))"
   ]
  },
  {
   "attachments": {},
   "cell_type": "markdown",
   "metadata": {},
   "source": [
    "\n",
    "## III. Fonction de mise à jour des états du registre\n",
    "C'est-à-dire la fonction qui hache les mots, de manière récursive\n"
   ]
  },
  {
   "attachments": {},
   "cell_type": "markdown",
   "metadata": {},
   "source": [
    "$$\n",
    "\\begin{array}{r c l l}\n",
    "      0\\leq i \\leq 62 \\\\\n",
    "      A_{i+1} & = & \\Sigma_1(E_i) + Ch(E_i,F_i,G_i) + H_i + W_i + K_i + \\Sigma_0(A_i) + Maj(A_i,B_i,C_i)   & & A_0 = h_0  \\\\\n",
    "      B_{i+1} & = & A_i          & & B_0 = h_1\\\\      \n",
    "      C_{i+1} & = & B_i          & & C_0 = h_2\\\\\n",
    "      D_{i+1} & = & C_i          & & D_0 = h_3\\\\\n",
    "      E_{i+1} & = & \\Sigma_1(E_i) + Ch(E_i,F_i,G_i) + H_i + W_i + K_i + D_i   & & E_0 = h_4     \\\\\n",
    "      F_{i+1} & = & E_i          & & F_0 = h_5\\\\\n",
    "      G_{i+1} & = & F_i          & & G_0 = h_6\\\\\n",
    "      H_{i+1} & = & G_i          & & H_0 = h_7\\\\\n",
    "   \\end{array}\n",
    "$$"
   ]
  },
  {
   "cell_type": "code",
   "execution_count": 30,
   "metadata": {},
   "outputs": [],
   "source": [
    "def MAJetatRegistre(H,M):\n",
    "    a=H[0]\n",
    "    b=H[1]\n",
    "    c=H[2]\n",
    "    d=H[3]\n",
    "    e=H[4]\n",
    "    f=H[5]\n",
    "    g=H[6]\n",
    "    h=H[7]\n",
    "    for t in range(64):\n",
    "        T1=ADD32(ADD32(h,SIGMA1(e)),ADD32(Choix(e,f,g),ADD32(K[t],M[t])))\n",
    "        T2=ADD32(SIGMA0(a),Maj(a,b,c))\n",
    "        h=g\n",
    "        g=f\n",
    "        f=e\n",
    "        e=ADD32(d,T1)\n",
    "        d=c\n",
    "        c=b\n",
    "        b=a\n",
    "        a=ADD32(T1,T2)\n",
    "    H[0]=ADD32(a,H[0])\n",
    "    H[1]=ADD32(b,H[1])\n",
    "    H[2]=ADD32(c,H[2])\n",
    "    H[3]=ADD32(d,H[3])\n",
    "    H[4]=ADD32(e,H[4])\n",
    "    H[5]=ADD32(f,H[5])\n",
    "    H[6]=ADD32(g,H[6])\n",
    "    H[7]=ADD32(h,H[7])\n",
    "    return H"
   ]
  },
  {
   "attachments": {},
   "cell_type": "markdown",
   "metadata": {},
   "source": [
    "### Etapes de calcul du haché\n",
    "\n",
    "Le haché initial du premier bloc est défini par h0 jusqu'à h7, qui correspondent aux mots $a$ à $h$ initialement\n",
    "\n",
    "On calcule le haché intermédiaire de chaque bloc (de 512 bits) en concatenant les mots A à H, qui est réutilisé comme haché initial pour le traitement du bloc suivant \n",
    "\n",
    "\n",
    "$$\n",
    "[A_{63},B_{63},C_{63},D_{63},E_{63},F_{63},G_{63},H_{63}]\n",
    "$$"
   ]
  },
  {
   "cell_type": "code",
   "execution_count": 31,
   "metadata": {},
   "outputs": [],
   "source": [
    "def etapes(L):\n",
    "    l=len(L)\n",
    "    h0 = bin(int('6a09e667',16)+2**32)[3:]\n",
    "    h1 = bin(int('bb67ae85',16)+2**32)[3:]\n",
    "    h2 = bin(int('3c6ef372',16)+2**32)[3:]\n",
    "    h3 = bin(int('a54ff53a',16)+2**32)[3:]\n",
    "    h4 = bin(int('510e527f',16)+2**32)[3:]\n",
    "    h5 = bin(int('9b05688c',16)+2**32)[3:]\n",
    "    h6 = bin(int('1f83d9ab',16)+2**32)[3:]\n",
    "    h7 = bin(int('5be0cd19',16)+2**32)[3:]\n",
    "    H=[h0,h1,h2,h3,h4,h5,h6,h7]\n",
    "    for i in range(1,l+1):\n",
    "        M=expansion(L[i-1])\n",
    "        H=MAJetatRegistre(H,M)\n",
    "    H=H[0]+H[1]+H[2]+H[3]+H[4]+H[5]+H[6]+H[7]\n",
    "    return H"
   ]
  },
  {
   "attachments": {},
   "cell_type": "markdown",
   "metadata": {},
   "source": [
    "Exemple : calcul du haché en bit du message $abc$"
   ]
  },
  {
   "cell_type": "code",
   "execution_count": 32,
   "metadata": {},
   "outputs": [
    {
     "name": "stdout",
     "output_type": "stream",
     "text": [
      "            haché binaire :  1011101001111000000101101011111110001111000000011100111111101010010000010100000101000000110111100101110110101110001000100010001110110000000000110110000110100011100101100001011101111010100111001011010000010000111111110110000111110010000000000001010110101101\n",
      "longueur du haché binaire :  256\n"
     ]
    },
    {
     "data": {
      "image/png": "[encoded data removed]",
      "text/plain": [
       "<Figure size 1000x1000 with 1 Axes>"
      ]
     },
     "metadata": {},
     "output_type": "display_data"
    }
   ],
   "source": [
    "R=rembourrage('abc')    \n",
    "L=découpageBlocs(R)\n",
    "H=etapes(L)\n",
    "print('            haché binaire : ',H)\n",
    "print('longueur du haché binaire : ',len(H))\n",
    "list_H=[H[i*32:(i+1)*32] for i in range(8)]\n",
    "afficheTableau(enBits(list_H))"
   ]
  },
  {
   "attachments": {},
   "cell_type": "markdown",
   "metadata": {},
   "source": [
    "### Calcul du hexdigest\n",
    "On transforme le haché final de 256 bits en hexadécimal (suite de 64 caractères)"
   ]
  },
  {
   "cell_type": "code",
   "execution_count": 33,
   "metadata": {},
   "outputs": [],
   "source": [
    "def digest(H): #renvoie un hexdigest du haché \n",
    "    d=hex(int(H, 2))[2:]\n",
    "    return d"
   ]
  },
  {
   "attachments": {},
   "cell_type": "markdown",
   "metadata": {},
   "source": [
    "#### Exemple : conversion binaire en hexadécimal"
   ]
  },
  {
   "cell_type": "code",
   "execution_count": 34,
   "metadata": {},
   "outputs": [
    {
     "data": {
      "text/plain": [
       "'a9ffe'"
      ]
     },
     "execution_count": 34,
     "metadata": {},
     "output_type": "execute_result"
    }
   ],
   "source": [
    "digest('10101001111111111110')"
   ]
  },
  {
   "attachments": {},
   "cell_type": "markdown",
   "metadata": {},
   "source": [
    "#### Exemple : calcul du haché en hexadécimal du message $abc$"
   ]
  },
  {
   "cell_type": "code",
   "execution_count": 35,
   "metadata": {},
   "outputs": [
    {
     "data": {
      "text/plain": [
       "'ba7816bf8f01cfea414140de5dae2223b00361a396177a9cb410ff61f20015ad'"
      ]
     },
     "execution_count": 35,
     "metadata": {},
     "output_type": "execute_result"
    }
   ],
   "source": [
    "digest(H)"
   ]
  },
  {
   "attachments": {},
   "cell_type": "markdown",
   "metadata": {},
   "source": [
    "On peut comparer cette valeur avec la valeur donnée par le module hashlib"
   ]
  },
  {
   "cell_type": "code",
   "execution_count": 36,
   "metadata": {},
   "outputs": [
    {
     "data": {
      "text/plain": [
       "'ba7816bf8f01cfea414140de5dae2223b00361a396177a9cb410ff61f20015ad'"
      ]
     },
     "execution_count": 36,
     "metadata": {},
     "output_type": "execute_result"
    }
   ],
   "source": [
    "hashlib.sha256(b'abc').hexdigest()"
   ]
  },
  {
   "attachments": {},
   "cell_type": "markdown",
   "metadata": {},
   "source": [
    "## IV. Fonction SHA-256 en Python\n",
    "\n",
    "Finalement, en condensant les parties précédentes, on a SHA-256 implémenté en Python"
   ]
  },
  {
   "cell_type": "code",
   "execution_count": 37,
   "metadata": {},
   "outputs": [],
   "source": [
    "def SHA256(m):\n",
    "    R=rembourrage(m)\n",
    "    L=découpageBlocs(R)\n",
    "    H=etapes(L)\n",
    "    d=digest(H)\n",
    "    return d"
   ]
  },
  {
   "attachments": {},
   "cell_type": "markdown",
   "metadata": {},
   "source": [
    "Et voilà le travail :)"
   ]
  },
  {
   "cell_type": "code",
   "execution_count": 40,
   "metadata": {},
   "outputs": [
    {
     "data": {
      "text/plain": [
       "'88d4266fd4e6338d13b845fcf289579d209c897823b9217da3e161936f031589'"
      ]
     },
     "execution_count": 40,
     "metadata": {},
     "output_type": "execute_result"
    }
   ],
   "source": [
    "SHA256('abcd')"
   ]
  },
  {
   "cell_type": "code",
   "execution_count": 39,
   "metadata": {},
   "outputs": [
    {
     "data": {
      "image/png": "[encoded data removed]",
      "text/plain": [
       "<qrcode.image.pil.PilImage at 0x2077b7781f0>"
      ]
     },
     "execution_count": 39,
     "metadata": {},
     "output_type": "execute_result"
    }
   ],
   "source": [
    "github = qrcode.make('https://github.com/leopold-terpereau/sha-256-python')\n",
    "github"
   ]
  }
 ],
 "metadata": {
  "interpreter": {
   "hash": "8fac594bfae6525c0c41b4041d2d72effa188cc8ead05f81b1fab2bb098927fb"
  },
  "kernelspec": {
   "display_name": "Python 3 (ipykernel)",
   "language": "python",
   "name": "python3"
  },
  "language_info": {
   "codemirror_mode": {
    "name": "ipython",
    "version": 3
   },
   "file_extension": ".py",
   "mimetype": "text/x-python",
   "name": "python",
   "nbconvert_exporter": "python",
   "pygments_lexer": "ipython3",
   "version": "3.9.13"
  }
 },
 "nbformat": 4,
 "nbformat_minor": 2
}
